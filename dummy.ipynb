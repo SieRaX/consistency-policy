{
 "cells": [
  {
   "cell_type": "code",
   "execution_count": null,
   "metadata": {},
   "outputs": [],
   "source": [
    "import torch\n",
    "import dill\n",
    "\n",
    "payload = torch.load(open(\"outputs/pusht_lowdim_reproduction/00.11.58_train_diffusion_unet_hybrid_pusht_image_cnn_16/checkpoints/epoch=0300-test_mean_score=0.900.ckpt\", \"rb\"), pickle_module=dill)"
   ]
  }
 ],
 "metadata": {
  "kernelspec": {
   "display_name": "robodiff",
   "language": "python",
   "name": "python3"
  },
  "language_info": {
   "name": "python",
   "version": "3.9.15"
  }
 },
 "nbformat": 4,
 "nbformat_minor": 2
}
