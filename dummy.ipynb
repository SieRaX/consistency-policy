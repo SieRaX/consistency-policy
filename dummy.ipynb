{
 "cells": [
  {
   "cell_type": "code",
   "execution_count": null,
   "metadata": {},
   "outputs": [],
   "source": [
    "import torch\n",
    "import dill\n",
    "\n",
    "payload = torch.load(open(\"outputs/pusht_lowdim_reproduction/00.11.58_train_diffusion_unet_hybrid_pusht_image_cnn_16/checkpoints/epoch=0300-test_mean_score=0.900.ckpt\", \"rb\"), pickle_module=dill)"
   ]
  },
  {
   "cell_type": "code",
   "execution_count": 1,
   "metadata": {},
   "outputs": [
    {
     "name": "stdout",
     "output_type": "stream",
     "text": [
      "torch.Size([1, 5, 5])\n"
     ]
    }
   ],
   "source": [
    "import torch\n",
    "from torch.func import jacrev, vmap\n",
    "x = torch.randn(1, 5)\n",
    "jacobian = vmap(jacrev(torch.sin))(x)\n",
    "print(jacobian.shape)"
   ]
  },
  {
   "cell_type": "code",
   "execution_count": 2,
   "metadata": {},
   "outputs": [
    {
     "name": "stdout",
     "output_type": "stream",
     "text": [
      "tensor([1.6291])\n"
     ]
    }
   ],
   "source": [
    "torch.dot                            # [D], [D] -> []\n",
    "batched_dot = torch.func.vmap(torch.dot)  # [N, D], [N, D] -> [N]\n",
    "x, y = torch.randn(1, 5), torch.randn(1, 5)\n",
    "print(batched_dot(x, y))"
   ]
  },
  {
   "cell_type": "code",
   "execution_count": 7,
   "metadata": {},
   "outputs": [
    {
     "name": "stdout",
     "output_type": "stream",
     "text": [
      "Time taken: 0.0006630420684814453 seconds\n",
      "Time taken: 0.001348257064819336 seconds\n"
     ]
    },
    {
     "ename": "AssertionError",
     "evalue": "",
     "output_type": "error",
     "traceback": [
      "\u001b[0;31m---------------------------------------------------------------------------\u001b[0m",
      "\u001b[0;31mAssertionError\u001b[0m                            Traceback (most recent call last)",
      "Cell \u001b[0;32mIn[7], line 28\u001b[0m\n\u001b[1;32m     26\u001b[0m time_end \u001b[38;5;241m=\u001b[39m time\u001b[38;5;241m.\u001b[39mtime()\n\u001b[1;32m     27\u001b[0m \u001b[38;5;28mprint\u001b[39m(\u001b[38;5;124mf\u001b[39m\u001b[38;5;124m\"\u001b[39m\u001b[38;5;124mTime taken: \u001b[39m\u001b[38;5;132;01m{\u001b[39;00mtime_end\u001b[38;5;250m \u001b[39m\u001b[38;5;241m-\u001b[39m\u001b[38;5;250m \u001b[39mtime_start\u001b[38;5;132;01m}\u001b[39;00m\u001b[38;5;124m seconds\u001b[39m\u001b[38;5;124m\"\u001b[39m)\n\u001b[0;32m---> 28\u001b[0m \u001b[38;5;28;01massert\u001b[39;00m torch\u001b[38;5;241m.\u001b[39mallclose(jacobian_vmap, jacobian)\n",
      "\u001b[0;31mAssertionError\u001b[0m: "
     ]
    }
   ],
   "source": [
    "import time\n",
    "# Setup\n",
    "N = 10\n",
    "def f(x):\n",
    "    return x ** 2\n",
    "\n",
    "x = torch.randn(N, requires_grad=True)\n",
    "y = f(x)\n",
    "basis_vectors = torch.eye(N)\n",
    "\n",
    "time_start = time.time()\n",
    "# Sequential approach\n",
    "# jacobian_rows = [torch.autograd.grad(y, x, v, retain_graph=True)[0]\n",
    "                #  for v in basis_vectors.unbind()]\n",
    "jacobian_rows = [torch.autograd.grad(y, x, v, retain_graph=True)[0]\n",
    "                 for v in basis_vectors.unbind()]\n",
    "jacobian = torch.stack(jacobian_rows)\n",
    "time_end = time.time()\n",
    "print(f\"Time taken: {time_end - time_start} seconds\")\n",
    "\n",
    "# Using `vmap`, we can vectorize the whole computation, computing the\n",
    "# Jacobian in a single call to `autograd.grad`.\n",
    "def get_vjp(v):\n",
    "    return torch.autograd.grad(y, x, v)[0]\n",
    "time_start = time.time()\n",
    "# jacobian_vmap = vmap(get_vjp)(basis_vectors)\n",
    "jacobian_vmap = vmap(jacrev(f))(basis_vectors)\n",
    "time_end = time.time()\n",
    "print(f\"Time taken: {time_end - time_start} seconds\")\n",
    "assert torch.allclose(jacobian_vmap, jacobian)"
   ]
  },
  {
   "cell_type": "code",
   "execution_count": 28,
   "metadata": {},
   "outputs": [
    {
     "name": "stdout",
     "output_type": "stream",
     "text": [
      "Time taken: 0.009607315063476562 seconds\n",
      "Time taken: 0.1701350212097168 seconds\n"
     ]
    }
   ],
   "source": [
    "B = 1024\n",
    "time_start = time.time()\n",
    "\n",
    "time_start = time.time()\n",
    "x = torch.randn(B, 5).to(device=\"cuda:0\")\n",
    "def f(x):\n",
    "    return torch.sin(x)\n",
    "jacobian = vmap(jacrev(f))(x)\n",
    "time_end = time.time()\n",
    "print(f\"Time taken: {time_end - time_start} seconds\")\n",
    "\n",
    "time_start = time.time()\n",
    "jacobian = [jacrev(f)(x[i]) for i in range(B)]\n",
    "time_end = time.time()\n",
    "print(f\"Time taken: {time_end - time_start} seconds\")\n"
   ]
  },
  {
   "cell_type": "code",
   "execution_count": 25,
   "metadata": {},
   "outputs": [
    {
     "data": {
      "image/png": "[encoded data removed]",
      "text/plain": [
       "<Figure size 640x480 with 1 Axes>"
      ]
     },
     "metadata": {},
     "output_type": "display_data"
    }
   ],
   "source": [
    "import numpy as np\n",
    "import torch\n",
    "from torch.func import jacrev, vmap\n",
    "import time\n",
    "\n",
    "elpased_time = list()\n",
    "for scale in np.arange(1, 2000, 100):\n",
    "    B = 1024*scale\n",
    "    time_start = time.time()\n",
    "    x = torch.randn(B, 5).to(device=\"cuda:0\")\n",
    "    def f(x):\n",
    "        return torch.sin(x)\n",
    "    jacobian = vmap(jacrev(f))(x)\n",
    "    assert jacobian.shape == (B, 5, 5)\n",
    "    time_end = time.time()\n",
    "    elpased_time.append(time_end - time_start)\n",
    "\n",
    "from matplotlib import pyplot as plt\n",
    "plt.plot(np.arange(1, 2000, 100), elpased_time)\n",
    "plt.show()"
   ]
  },
  {
   "cell_type": "code",
   "execution_count": 3,
   "metadata": {},
   "outputs": [
    {
     "ename": "AttributeError",
     "evalue": "module 'cv2.videoio_registry' has no attribute 'get_codecs'",
     "output_type": "error",
     "traceback": [
      "\u001b[0;31m---------------------------------------------------------------------------\u001b[0m",
      "\u001b[0;31mAttributeError\u001b[0m                            Traceback (most recent call last)",
      "Cell \u001b[0;32mIn[3], line 2\u001b[0m\n\u001b[1;32m      1\u001b[0m \u001b[38;5;28;01mimport\u001b[39;00m\u001b[38;5;250m \u001b[39m\u001b[38;5;21;01mcv2\u001b[39;00m\n\u001b[0;32m----> 2\u001b[0m \u001b[38;5;28mprint\u001b[39m(\u001b[43mcv2\u001b[49m\u001b[38;5;241;43m.\u001b[39;49m\u001b[43mvideoio_registry\u001b[49m\u001b[38;5;241;43m.\u001b[39;49m\u001b[43mget_codecs\u001b[49m())\n",
      "\u001b[0;31mAttributeError\u001b[0m: module 'cv2.videoio_registry' has no attribute 'get_codecs'"
     ]
    }
   ],
   "source": [
    "import cv2\n",
    "print(cv2.videoio_registry)"
   ]
  },
  {
   "cell_type": "code",
   "execution_count": null,
   "metadata": {},
   "outputs": [],
   "source": []
  }
 ],
 "metadata": {
  "kernelspec": {
   "display_name": "robodiff",
   "language": "python",
   "name": "python3"
  },
  "language_info": {
   "codemirror_mode": {
    "name": "ipython",
    "version": 3
   },
   "file_extension": ".py",
   "mimetype": "text/x-python",
   "name": "python",
   "nbconvert_exporter": "python",
   "pygments_lexer": "ipython3",
   "version": "3.9.15"
  }
 },
 "nbformat": 4,
 "nbformat_minor": 2
}
